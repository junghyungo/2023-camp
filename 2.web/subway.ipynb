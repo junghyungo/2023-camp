{
 "cells": [
  {
   "cell_type": "code",
   "execution_count": 28,
   "metadata": {},
   "outputs": [
    {
     "data": {
      "text/html": [
       "<div>\n",
       "<style scoped>\n",
       "    .dataframe tbody tr th:only-of-type {\n",
       "        vertical-align: middle;\n",
       "    }\n",
       "\n",
       "    .dataframe tbody tr th {\n",
       "        vertical-align: top;\n",
       "    }\n",
       "\n",
       "    .dataframe thead th {\n",
       "        text-align: right;\n",
       "    }\n",
       "</style>\n",
       "<table border=\"1\" class=\"dataframe\">\n",
       "  <thead>\n",
       "    <tr style=\"text-align: right;\">\n",
       "      <th></th>\n",
       "      <th>사용일자</th>\n",
       "      <th>노선명</th>\n",
       "      <th>역명</th>\n",
       "      <th>승차총승객수</th>\n",
       "      <th>하차총승객수</th>\n",
       "      <th>등록일자</th>\n",
       "      <th>Unnamed: 6</th>\n",
       "    </tr>\n",
       "  </thead>\n",
       "  <tbody>\n",
       "    <tr>\n",
       "      <th>0</th>\n",
       "      <td>20230101</td>\n",
       "      <td>경강선</td>\n",
       "      <td>곤지암</td>\n",
       "      <td>1450</td>\n",
       "      <td>1539</td>\n",
       "      <td>20230104</td>\n",
       "      <td>NaN</td>\n",
       "    </tr>\n",
       "    <tr>\n",
       "      <th>1</th>\n",
       "      <td>20230101</td>\n",
       "      <td>2호선</td>\n",
       "      <td>신도림</td>\n",
       "      <td>20210</td>\n",
       "      <td>21037</td>\n",
       "      <td>20230104</td>\n",
       "      <td>NaN</td>\n",
       "    </tr>\n",
       "    <tr>\n",
       "      <th>2</th>\n",
       "      <td>20230101</td>\n",
       "      <td>2호선</td>\n",
       "      <td>문래</td>\n",
       "      <td>5995</td>\n",
       "      <td>6567</td>\n",
       "      <td>20230104</td>\n",
       "      <td>NaN</td>\n",
       "    </tr>\n",
       "    <tr>\n",
       "      <th>3</th>\n",
       "      <td>20230101</td>\n",
       "      <td>2호선</td>\n",
       "      <td>영등포구청</td>\n",
       "      <td>5629</td>\n",
       "      <td>6117</td>\n",
       "      <td>20230104</td>\n",
       "      <td>NaN</td>\n",
       "    </tr>\n",
       "    <tr>\n",
       "      <th>4</th>\n",
       "      <td>20230101</td>\n",
       "      <td>2호선</td>\n",
       "      <td>당산</td>\n",
       "      <td>6821</td>\n",
       "      <td>7594</td>\n",
       "      <td>20230104</td>\n",
       "      <td>NaN</td>\n",
       "    </tr>\n",
       "  </tbody>\n",
       "</table>\n",
       "</div>"
      ],
      "text/plain": [
       "       사용일자  노선명     역명  승차총승객수  하차총승객수      등록일자  Unnamed: 6\n",
       "0  20230101  경강선    곤지암    1450    1539  20230104         NaN\n",
       "1  20230101  2호선    신도림   20210   21037  20230104         NaN\n",
       "2  20230101  2호선     문래    5995    6567  20230104         NaN\n",
       "3  20230101  2호선  영등포구청    5629    6117  20230104         NaN\n",
       "4  20230101  2호선     당산    6821    7594  20230104         NaN"
      ]
     },
     "execution_count": 28,
     "metadata": {},
     "output_type": "execute_result"
    }
   ],
   "source": [
    "import pandas as pd\n",
    "import os\n",
    "from datetime import datetime\n",
    "import openpyxl\n",
    "\n",
    "raw = pd.read_csv(\"./rawfiles/CARD_SUBWAY_MONTH_202301.CSV\")\n",
    "raw.head()"
   ]
  },
  {
   "cell_type": "code",
   "execution_count": 12,
   "metadata": {},
   "outputs": [
    {
     "name": "stdout",
     "output_type": "stream",
     "text": [
      "<class 'pandas.core.frame.DataFrame'>\n",
      "RangeIndex: 91647 entries, 0 to 91646\n",
      "Data columns (total 6 columns):\n",
      " #   Column  Non-Null Count  Dtype \n",
      "---  ------  --------------  ----- \n",
      " 0   사용일자    91647 non-null  int64 \n",
      " 1   노선명     91647 non-null  object\n",
      " 2   역명      91647 non-null  object\n",
      " 3   승차총승객수  91647 non-null  int64 \n",
      " 4   하차총승객수  91647 non-null  int64 \n",
      " 5   등록일자    91647 non-null  int64 \n",
      "dtypes: int64(4), object(2)\n",
      "memory usage: 4.2+ MB\n"
     ]
    }
   ],
   "source": [
    "raw = pd.DataFrame()\n",
    "files = os.listdir(\"./rawfiles/\")\n",
    "\n",
    "for file in sorted(files):\n",
    "    filePath = \"./rawfiles/\" + file\n",
    "    tmp = pd.read_csv(filePath)\n",
    "    raw = pd.concat([raw, tmp], ignore_index=True)\n",
    "raw = raw.drop(labels=[raw.columns[-1]], axis=1)\n",
    "raw.info()"
   ]
  },
  {
   "cell_type": "code",
   "execution_count": 19,
   "metadata": {},
   "outputs": [
    {
     "data": {
      "text/plain": [
       "3"
      ]
     },
     "execution_count": 19,
     "metadata": {},
     "output_type": "execute_result"
    }
   ],
   "source": [
    "date = datetime.strptime(\"20230601\", \"%Y%m%d\")\n",
    "date.weekday()  # 월요일부터 시작"
   ]
  },
  {
   "cell_type": "code",
   "execution_count": 24,
   "metadata": {},
   "outputs": [],
   "source": [
    "weekday = [\"월\", \"화\", \"수\", \"목\", \"금\", \"토\", \"일\"]\n",
    "weekdayList = []\n",
    "\n",
    "for dateStr in raw[\"사용일자\"]:\n",
    "    date = datetime.strptime(str(dateStr), \"%Y%m%d\")\n",
    "    weekdayIndex = date.weekday()\n",
    "    day = weekday[weekdayIndex]\n",
    "    weekdayList.append(day)"
   ]
  },
  {
   "cell_type": "code",
   "execution_count": 26,
   "metadata": {},
   "outputs": [
    {
     "data": {
      "text/html": [
       "<div>\n",
       "<style scoped>\n",
       "    .dataframe tbody tr th:only-of-type {\n",
       "        vertical-align: middle;\n",
       "    }\n",
       "\n",
       "    .dataframe tbody tr th {\n",
       "        vertical-align: top;\n",
       "    }\n",
       "\n",
       "    .dataframe thead th {\n",
       "        text-align: right;\n",
       "    }\n",
       "</style>\n",
       "<table border=\"1\" class=\"dataframe\">\n",
       "  <thead>\n",
       "    <tr style=\"text-align: right;\">\n",
       "      <th></th>\n",
       "      <th>사용일자</th>\n",
       "      <th>노선명</th>\n",
       "      <th>역명</th>\n",
       "      <th>승차총승객수</th>\n",
       "      <th>하차총승객수</th>\n",
       "      <th>등록일자</th>\n",
       "      <th>요일</th>\n",
       "    </tr>\n",
       "  </thead>\n",
       "  <tbody>\n",
       "    <tr>\n",
       "      <th>14916</th>\n",
       "      <td>20230125</td>\n",
       "      <td>7호선</td>\n",
       "      <td>내방</td>\n",
       "      <td>14163</td>\n",
       "      <td>14450</td>\n",
       "      <td>20230128</td>\n",
       "      <td>수</td>\n",
       "    </tr>\n",
       "    <tr>\n",
       "      <th>33814</th>\n",
       "      <td>20230225</td>\n",
       "      <td>경의선</td>\n",
       "      <td>곡산</td>\n",
       "      <td>399</td>\n",
       "      <td>433</td>\n",
       "      <td>20230228</td>\n",
       "      <td>토</td>\n",
       "    </tr>\n",
       "    <tr>\n",
       "      <th>2668</th>\n",
       "      <td>20230105</td>\n",
       "      <td>7호선</td>\n",
       "      <td>천왕</td>\n",
       "      <td>12231</td>\n",
       "      <td>11605</td>\n",
       "      <td>20230108</td>\n",
       "      <td>목</td>\n",
       "    </tr>\n",
       "    <tr>\n",
       "      <th>40718</th>\n",
       "      <td>20230309</td>\n",
       "      <td>3호선</td>\n",
       "      <td>옥수</td>\n",
       "      <td>9960</td>\n",
       "      <td>10052</td>\n",
       "      <td>20230312</td>\n",
       "      <td>목</td>\n",
       "    </tr>\n",
       "    <tr>\n",
       "      <th>65886</th>\n",
       "      <td>20230419</td>\n",
       "      <td>경부선</td>\n",
       "      <td>오산</td>\n",
       "      <td>11556</td>\n",
       "      <td>11655</td>\n",
       "      <td>20230422</td>\n",
       "      <td>수</td>\n",
       "    </tr>\n",
       "  </tbody>\n",
       "</table>\n",
       "</div>"
      ],
      "text/plain": [
       "           사용일자  노선명  역명  승차총승객수  하차총승객수      등록일자 요일\n",
       "14916  20230125  7호선  내방   14163   14450  20230128  수\n",
       "33814  20230225  경의선  곡산     399     433  20230228  토\n",
       "2668   20230105  7호선  천왕   12231   11605  20230108  목\n",
       "40718  20230309  3호선  옥수    9960   10052  20230312  목\n",
       "65886  20230419  경부선  오산   11556   11655  20230422  수"
      ]
     },
     "execution_count": 26,
     "metadata": {},
     "output_type": "execute_result"
    }
   ],
   "source": [
    "raw[\"요일\"] = weekdayList\n",
    "raw.sample(5)"
   ]
  },
  {
   "cell_type": "code",
   "execution_count": 29,
   "metadata": {},
   "outputs": [],
   "source": [
    "raw.to_excel(\"./subway_raw.xlsx\", index=False)"
   ]
  },
  {
   "cell_type": "code",
   "execution_count": null,
   "metadata": {},
   "outputs": [],
   "source": []
  }
 ],
 "metadata": {
  "kernelspec": {
   "display_name": "Python 3",
   "language": "python",
   "name": "python3"
  },
  "language_info": {
   "codemirror_mode": {
    "name": "ipython",
    "version": 3
   },
   "file_extension": ".py",
   "mimetype": "text/x-python",
   "name": "python",
   "nbconvert_exporter": "python",
   "pygments_lexer": "ipython3",
   "version": "3.11.4"
  },
  "orig_nbformat": 4
 },
 "nbformat": 4,
 "nbformat_minor": 2
}
